{
 "cells": [
  {
   "cell_type": "code",
   "execution_count": 1,
   "metadata": {},
   "outputs": [
    {
     "name": "stdout",
     "output_type": "stream",
     "text": [
      "2.2.3\n",
      "2.1.3\n"
     ]
    }
   ],
   "source": [
    "import pandas as pd\n",
    "import numpy as np\n",
    "import os\n",
    "\n",
    "print(pd.__version__)  # ตรวจสอบเวอร์ชัน Pandas\n",
    "print(np.__version__)  # ตรวจสอบเวอร์ชัน NumPy"
   ]
  },
  {
   "cell_type": "code",
   "execution_count": 5,
   "metadata": {},
   "outputs": [
    {
     "ename": "FileNotFoundError",
     "evalue": "[WinError 3] The system cannot find the path specified: 'raw-data'",
     "output_type": "error",
     "traceback": [
      "\u001b[1;31m---------------------------------------------------------------------------\u001b[0m",
      "\u001b[1;31mFileNotFoundError\u001b[0m                         Traceback (most recent call last)",
      "Cell \u001b[1;32mIn[5], line 7\u001b[0m\n\u001b[0;32m      4\u001b[0m folder_path \u001b[38;5;241m=\u001b[39m \u001b[38;5;124m\"\u001b[39m\u001b[38;5;124mraw-data\u001b[39m\u001b[38;5;124m\"\u001b[39m\n\u001b[0;32m      6\u001b[0m \u001b[38;5;66;03m# รายการไฟล์ในโฟลเดอร์\u001b[39;00m\n\u001b[1;32m----> 7\u001b[0m excel_files \u001b[38;5;241m=\u001b[39m [f \u001b[38;5;28;01mfor\u001b[39;00m f \u001b[38;5;129;01min\u001b[39;00m \u001b[43mos\u001b[49m\u001b[38;5;241;43m.\u001b[39;49m\u001b[43mlistdir\u001b[49m\u001b[43m(\u001b[49m\u001b[43mfolder_path\u001b[49m\u001b[43m)\u001b[49m \u001b[38;5;28;01mif\u001b[39;00m f\u001b[38;5;241m.\u001b[39mendswith(\u001b[38;5;124m'\u001b[39m\u001b[38;5;124mBUU_LSPINE_V2_REPORT.xlsx\u001b[39m\u001b[38;5;124m'\u001b[39m)]\n\u001b[0;32m      9\u001b[0m \u001b[38;5;66;03m# เลือกไฟล์ Excel ที่ต้องการ (ตัวอย่าง: ไฟล์แรกในลิสต์)\u001b[39;00m\n\u001b[0;32m     10\u001b[0m file_to_read \u001b[38;5;241m=\u001b[39m os\u001b[38;5;241m.\u001b[39mpath\u001b[38;5;241m.\u001b[39mjoin(folder_path, excel_files[\u001b[38;5;241m0\u001b[39m])\n",
      "\u001b[1;31mFileNotFoundError\u001b[0m: [WinError 3] The system cannot find the path specified: 'raw-data'"
     ]
    }
   ],
   "source": [
    "# อ่าน Excel เป็น Data Frame Output ออกมาเป็น .csv\n",
    "\n",
    "# ระบุ path ของโฟลเดอร์ที่เก็บไฟล์ Excel\n",
    "folder_path = \"raw-data\"\n",
    "\n",
    "# รายการไฟล์ในโฟลเดอร์\n",
    "excel_files = [f for f in os.listdir(folder_path) if f.endswith('BUU_LSPINE_V2_REPORT.xlsx')]\n",
    "\n",
    "# เลือกไฟล์ Excel ที่ต้องการ (ตัวอย่าง: ไฟล์แรกในลิสต์)\n",
    "file_to_read = os.path.join(folder_path, excel_files[0])\n",
    "\n",
    "# ระบุชื่อ Sheet ที่ต้องการ\n",
    "sheet_name = \"diag_all_BUU_LSPINE_V2\"  # เปลี่ยนชื่อ Sheet ตามต้องการ\n",
    "\n",
    "# อ่านข้อมูลจาก Sheet ที่ระบุ\n",
    "data_frame = pd.read_excel(file_to_read, sheet_name=sheet_name)\n",
    "\n",
    "# แสดงข้อมูล\n",
    "print(data_frame)\n",
    "\n",
    "# บันทึก DataFrame เป็นไฟล์ CSV\n",
    "output_csv = \"data_diag_all.csv\"  # ตั้งชื่อไฟล์ใหม่\n",
    "data_frame.to_csv(output_csv, index=False)\n",
    "print(f\"บันทึกข้อมูลเป็นไฟล์ CSV: {output_csv}\")\n",
    "\n"
   ]
  },
  {
   "cell_type": "code",
   "execution_count": 5,
   "metadata": {},
   "outputs": [
    {
     "name": "stdout",
     "output_type": "stream",
     "text": [
      "      Column1      filename gender  age type  heigth  width     L1a_1c  \\\n",
      "0           0  0001-F-037Y0      F   37   AP    2147   1823   876.2222   \n",
      "1           1  0003-F-013Y0      F   13   AP    2428   1996   995.1376   \n",
      "2           2  0004-F-010Y0      F   10   AP    2428   1996  1030.5450   \n",
      "3           3  0005-F-025Y0      F   25   AP    2428   1960  1065.6940   \n",
      "4           4  0006-F-031Y0      F   31   AP    2428   1848   856.3824   \n",
      "...       ...           ...    ...  ...  ...     ...    ...        ...   \n",
      "5303     5303  8635-M-027Y0      M   27   AP    3036   2268   913.4603   \n",
      "5304     5304  8636-M-067Y0      M   67   AP    3036   2120   768.2296   \n",
      "5305     5305  8637-F-032Y0      F   32   AP    3036   1832   784.5172   \n",
      "5306     5306  8642-M-036Y0      M   36   AP    3036   2316  1011.1860   \n",
      "5307     5307  8651-F-048Y0      F   48   AP    3036   2396  1020.6870   \n",
      "\n",
      "        L1a_1r    L1a_2c  ...     L5a_2r    L5b_1c     L5b_1r    L5b_2c  \\\n",
      "0     167.0618  1111.472  ...   980.1932  766.5613  1163.9790  1129.421   \n",
      "1     915.0048  1188.762  ...  1628.5880  982.8820  1770.2740  1266.552   \n",
      "2     262.7610  1235.536  ...   869.5652  915.9337   951.9692  1168.380   \n",
      "3     352.9687  1266.615  ...  1043.5540  886.8709  1190.9260  1166.336   \n",
      "4     263.6143  1077.760  ...   926.3470  880.4554  1018.9140  1158.821   \n",
      "...        ...       ...  ...        ...       ...        ...       ...   \n",
      "5303  229.3830  1305.719  ...  1396.6580  827.9506  1598.8950  1274.501   \n",
      "5304  800.8047  1102.125  ...  1688.4760  822.5215  2004.7260  1263.643   \n",
      "5305  727.5107  1072.264  ...  1748.2750  711.2232  1936.8620  1079.050   \n",
      "5306  647.4302  1335.579  ...  1794.3450  977.2532  1962.6500  1388.514   \n",
      "5307  819.8069  1305.719  ...  1769.9140  985.3970  1947.7200  1388.514   \n",
      "\n",
      "         L5b_2r  L1b_d  L2b_d  L3b_d  L4b_d  L5b_d  \n",
      "0     1157.6960      0      0      0      0      0  \n",
      "1     1782.8980      0      0      0      0      0  \n",
      "2      985.3234      0      0      0      0      0  \n",
      "3     1207.6370      0      0      0      0      0  \n",
      "4     1022.5800      0      0      0      0      0  \n",
      "...         ...    ...    ...    ...    ...    ...  \n",
      "5303  1596.1800      0      0      0      0      0  \n",
      "5304  1912.4300      0      0      0      0      0  \n",
      "5305  1935.5040      0      0      0      0      0  \n",
      "5306  2019.6570      0      0      0      0      0  \n",
      "5307  1931.4320      0      0      0      0      0  \n",
      "\n",
      "[5308 rows x 52 columns]\n",
      "บันทึกข้อมูลเป็นไฟล์ CSV: data_pos_ap_all.csv\n"
     ]
    }
   ],
   "source": [
    "# อ่าน Excel เป็น Data Frame Output ออกมาเป็น .csv\n",
    "\n",
    "# ระบุ path ของโฟลเดอร์ที่เก็บไฟล์ Excel\n",
    "folder_path = \"raw-data\"\n",
    "\n",
    "# รายการไฟล์ในโฟลเดอร์\n",
    "excel_files = [f for f in os.listdir(folder_path) if f.endswith('BUU_LSPINE_V2_REPORT.xlsx')]\n",
    "\n",
    "# เลือกไฟล์ Excel ที่ต้องการ (ตัวอย่าง: ไฟล์แรกในลิสต์)\n",
    "file_to_read = os.path.join(folder_path, excel_files[0])\n",
    "\n",
    "# ระบุชื่อ Sheet ที่ต้องการ\n",
    "sheet_name = \"pos_AP_BUU_LSPINE_V2\"  # เปลี่ยนชื่อ Sheet ตามต้องการ\n",
    "\n",
    "# อ่านข้อมูลจาก Sheet ที่ระบุ\n",
    "data_frame = pd.read_excel(file_to_read, sheet_name=sheet_name)\n",
    "\n",
    "# แสดงข้อมูล\n",
    "print(data_frame)\n",
    "\n",
    "# บันทึก DataFrame เป็นไฟล์ CSV\n",
    "output_csv = \"data_pos_ap_all.csv\"  # ตั้งชื่อไฟล์ใหม่\n",
    "data_frame.to_csv(output_csv, index=False)\n",
    "print(f\"บันทึกข้อมูลเป็นไฟล์ CSV: {output_csv}\")\n"
   ]
  },
  {
   "cell_type": "code",
   "execution_count": 6,
   "metadata": {},
   "outputs": [
    {
     "name": "stdout",
     "output_type": "stream",
     "text": [
      "      Column1      filename gender  age type  heigth  width     L1a_1c  \\\n",
      "0           0  0001-F-037Y1      F   37   LA    2428   1392   608.5929   \n",
      "1           1  0003-F-013Y1      F   13   LA    2428   1996   772.4448   \n",
      "2           2  0004-F-010Y1      F   10   LA    2428   1940   617.4070   \n",
      "3           3  0005-F-025Y1      F   25   LA    2428   1940  1083.8950   \n",
      "4           4  0006-F-031Y1      F   31   LA    2428   1996   853.2159   \n",
      "...       ...           ...    ...  ...  ...     ...    ...        ...   \n",
      "5303     5303  8635-M-027Y1      M   27   LA    3036   2372  1033.8420   \n",
      "5304     5304  8636-M-067Y1      M   67   LA    3034   2456  1078.9810   \n",
      "5305     5305  8637-F-032Y1      F   32   LA    3034   2288  1170.8390   \n",
      "5306     5306  8642-M-036Y1      M   36   LA    3036   2644  1078.8080   \n",
      "5307     5307  8651-F-048Y1      F   48   LA    3036   2672  1409.4380   \n",
      "\n",
      "        L1a_1r     L1a_2c  ...    L5b_2r     S1a_1c    S1a_1r     S1a_2c  \\\n",
      "0     352.6718   826.9116  ...  1474.216   483.4817  1624.151   681.5828   \n",
      "1     207.5458   953.4622  ...  1126.033   551.5165  1240.550   704.9568   \n",
      "2     400.7533   782.6827  ...  1141.984   849.9302  1289.932   937.3315   \n",
      "3     248.5624  1273.3730  ...  1265.159  1116.0610  1411.361  1255.0260   \n",
      "4     652.7126  1026.8300  ...  1552.956  1148.7650  1672.106  1234.4680   \n",
      "...        ...        ...  ...       ...        ...       ...        ...   \n",
      "5303  157.2604  1341.0820  ...  1696.374   979.9655  1805.583  1212.9440   \n",
      "5304  998.8950  1410.9760  ...  2191.453  1089.1740  2369.099  1316.3280   \n",
      "5305  639.1041  1429.8890  ...  1908.791  1215.1500  1959.919   973.1425   \n",
      "5306  226.6689  1377.0560  ...  1654.854   952.6912  1879.818  1228.7840   \n",
      "5307  729.4308  1636.1060  ...  1941.172  1155.5000  2104.783  1334.4490   \n",
      "\n",
      "        S1a_2r  L1b_d  L2b_d  L3b_d  L4b_d  L5b_d  \n",
      "0     1508.435      0      0      0      0      0  \n",
      "1     1149.355      0      0      0      0      0  \n",
      "2     1150.672      0      0      0      0      0  \n",
      "3     1281.082      0      0      0      0      0  \n",
      "4     1571.705      0      0      0      0      0  \n",
      "...        ...    ...    ...    ...    ...    ...  \n",
      "5303  1614.832      0      0      0      0      0  \n",
      "5304  2146.314      0      4      0      0      3  \n",
      "5305  2115.008      0      0      0      0      0  \n",
      "5306  1726.433      0      0      0      0      0  \n",
      "5307  1976.962      0      0      0      0      0  \n",
      "\n",
      "[5308 rows x 56 columns]\n",
      "บันทึกข้อมูลเป็นไฟล์ CSV: data_pos_la_all.csv\n"
     ]
    }
   ],
   "source": [
    "# อ่าน Excel เป็น Data Frame Output ออกมาเป็น .csv\n",
    "\n",
    "# ระบุ path ของโฟลเดอร์ที่เก็บไฟล์ Excel\n",
    "folder_path = \"raw-data\"\n",
    "\n",
    "# รายการไฟล์ในโฟลเดอร์\n",
    "excel_files = [f for f in os.listdir(folder_path) if f.endswith('BUU_LSPINE_V2_REPORT.xlsx')]\n",
    "\n",
    "# เลือกไฟล์ Excel ที่ต้องการ (ตัวอย่าง: ไฟล์แรกในลิสต์)\n",
    "file_to_read = os.path.join(folder_path, excel_files[0])\n",
    "\n",
    "# ระบุชื่อ Sheet ที่ต้องการ\n",
    "sheet_name = \"pos_LA_BUU_LSPINE_V2\"  # เปลี่ยนชื่อ Sheet ตามต้องการ\n",
    "\n",
    "# อ่านข้อมูลจาก Sheet ที่ระบุ\n",
    "data_frame = pd.read_excel(file_to_read, sheet_name=sheet_name)\n",
    "\n",
    "# แสดงข้อมูล\n",
    "print(data_frame)\n",
    "\n",
    "# บันทึก DataFrame เป็นไฟล์ CSV\n",
    "output_csv = \"data_pos_la_all.csv\"  # ตั้งชื่อไฟล์ใหม่\n",
    "data_frame.to_csv(output_csv, index=False)\n",
    "print(f\"บันทึกข้อมูลเป็นไฟล์ CSV: {output_csv}\")\n"
   ]
  },
  {
   "cell_type": "code",
   "execution_count": null,
   "metadata": {},
   "outputs": [
    {
     "name": "stdout",
     "output_type": "stream",
     "text": [
      "      Column1     filename gender  age Normal/Disorder\n",
      "0           0  0001-F-037Y      F   37          Normal\n",
      "1           1  0003-F-013Y      F   13          Normal\n",
      "2           2  0004-F-010Y      F   10          Normal\n",
      "3           3  0005-F-025Y      F   25          Normal\n",
      "4           4  0006-F-031Y      F   31          Normal\n",
      "...       ...          ...    ...  ...             ...\n",
      "5303     5303  8635-M-027Y      M   27          Normal\n",
      "5304     5304  8636-M-067Y      M   67        Disorder\n",
      "5305     5305  8637-F-032Y      F   32          Normal\n",
      "5306     5306  8642-M-036Y      M   36          Normal\n",
      "5307     5307  8651-F-048Y      F   48          Normal\n",
      "\n",
      "[5308 rows x 5 columns]\n",
      "บันทึกข้อมูลเป็นไฟล์ CSV: data_disorder_all.csv\n"
     ]
    }
   ],
   "source": [
    "# อ่าน Excel เป็น Data Frame Output ออกมาเป็น .csv\n",
    "\n",
    "\n",
    "folder_path = \"raw-data\"\n",
    "\n",
    "\n",
    "excel_files = [f for f in os.listdir(folder_path) if f.endswith('BUU_LSPINE_V2_REPORT.xlsx')]\n",
    "\n",
    "\n",
    "file_to_read = os.path.join(folder_path, excel_files[0])\n",
    "\n",
    "\n",
    "sheet_name = \"normal_disorder_BUU_LSPINE_V2\"  \n",
    "\n",
    "\n",
    "data_frame = pd.read_excel(file_to_read, sheet_name=sheet_name)\n",
    "\n",
    "\n",
    "print(data_frame)\n",
    "\n",
    "\n",
    "output_csv = \"data_disorder_all.csv\"  \n",
    "data_frame.to_csv(output_csv, index=False)\n",
    "print(f\"บันทึกข้อมูลเป็นไฟล์ CSV: {output_csv}\")"
   ]
  },
  {
   "cell_type": "code",
   "execution_count": null,
   "metadata": {},
   "outputs": [
    {
     "name": "stdout",
     "output_type": "stream",
     "text": [
      "     Column1      filename gender  L4L6_num L4L6_title\n",
      "0          0  0006-F-031Y1      F        21         L4\n",
      "1          1  0108-F-036Y1      F        21         L4\n",
      "2          2  0233-F-064Y1      F        21         L4\n",
      "3          3  0261-F-056Y1      F        21         L4\n",
      "4          4  0271-F-062Y1      F        21         L4\n",
      "..       ...           ...    ...       ...        ...\n",
      "167      167  8298-M-069Y1      M        21         L4\n",
      "168      168  8320-F-039Y1      F        21         L4\n",
      "169      169  8346-F-061Y1      F        21         L4\n",
      "170      170  8509-F-038Y1      F        21         L4\n",
      "171      171  8594-F-021Y1      F        21         L4\n",
      "\n",
      "[172 rows x 5 columns]\n",
      "บันทึกข้อมูลเป็นไฟล์ CSV: csv-data\\data_l4l6_all.csv\n"
     ]
    }
   ],
   "source": [
    "# อ่าน Excel เป็น Data Frame Output ออกมาเป็น .csv\n",
    "\n",
    "# ระบุ path ของโฟลเดอร์ที่เก็บไฟล์ Excel\n",
    "folder_path = \"raw-data\"\n",
    "\n",
    "# รายการไฟล์ในโฟลเดอร์\n",
    "excel_files = [f for f in os.listdir(folder_path) if f.endswith('BUU_LSPINE_V2_REPORT.xlsx')]\n",
    "\n",
    "# เลือกไฟล์ Excel ที่ต้องการ (ตัวอย่าง: ไฟล์แรกในลิสต์)\n",
    "file_to_read = os.path.join(folder_path, excel_files[0])\n",
    "\n",
    "# ระบุชื่อ Sheet ที่ต้องการ\n",
    "sheet_name = \"L4L6_BUU_LSPINE_V2\"  # เปลี่ยนชื่อ Sheet ตามต้องการ\n",
    "\n",
    "# อ่านข้อมูลจาก Sheet ที่ระบุ\n",
    "data_frame = pd.read_excel(file_to_read, sheet_name=sheet_name)\n",
    "\n",
    "# แสดงข้อมูล\n",
    "print(data_frame)\n",
    "\n",
    "# บันทึก DataFrame เป็นไฟล์ CSV\n",
    "output_folder = \"csv-data\"\n",
    "if not os.path.exists(output_folder):\n",
    "    os.makedirs(output_folder)\n",
    "output_csv = os.path.join(output_folder, \"data_l4l6_all.csv\")  # ตั้งชื่อไฟล์ใหม่\n",
    "data_frame.to_csv(output_csv, index=False)\n",
    "print(f\"บันทึกข้อมูลเป็นไฟล์ CSV: {output_csv}\")"
   ]
  },
  {
   "cell_type": "code",
   "execution_count": null,
   "metadata": {},
   "outputs": [],
   "source": []
  }
 ],
 "metadata": {
  "kernelspec": {
   "display_name": "Python 3",
   "language": "python",
   "name": "python3"
  },
  "language_info": {
   "codemirror_mode": {
    "name": "ipython",
    "version": 3
   },
   "file_extension": ".py",
   "mimetype": "text/x-python",
   "name": "python",
   "nbconvert_exporter": "python",
   "pygments_lexer": "ipython3",
   "version": "3.12.3"
  }
 },
 "nbformat": 4,
 "nbformat_minor": 2
}
